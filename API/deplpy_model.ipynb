{
 "cells": [
  {
   "cell_type": "code",
   "execution_count": 1,
   "metadata": {},
   "outputs": [
    {
     "name": "stdout",
     "output_type": "stream",
     "text": [
      "Predicted labels: Uncertain\n"
     ]
    }
   ],
   "source": [
    "import json\n",
    "import onnxruntime\n",
    "import numpy as np\n",
    "sess = onnxruntime.InferenceSession(\"model.onnx\")\n",
    "def predict(input_data, session, label_map,threshold=0.4):\n",
    "    input_data = np.expand_dims(input_data, axis=0).astype(np.float32)\n",
    "    # Chạy mô hình trên dữ liệu đầu vào\n",
    "    output = session.run(None, {'input': input_data})[0][0]\n",
    "    predictions = np.argmax(output, axis=0)\n",
    "    probabilities = (np.exp(output) / np.sum(np.exp(output), axis=0))\n",
    "    confidence = probabilities[np.argmax(probabilities, axis=0)]\n",
    "    predicted_labels = list(label_map.keys())[predictions]\n",
    "    if confidence < threshold :\n",
    "        return \"Uncertain\"\n",
    "    else:\n",
    "        return predicted_labels\n",
    "with open('sign_to_prediction_index_map.json', 'r', encoding='utf-8') as json_file:\n",
    "    label_map = json.load(json_file)\n",
    "\n",
    "ranx = np.random.randn(124,390)\n",
    "predicted_labels = predict(ranx, sess, label_map,0.7)\n",
    "\n",
    "print(\"Predicted labels:\", predicted_labels)"
   ]
  },
  {
   "cell_type": "code",
   "execution_count": null,
   "metadata": {},
   "outputs": [],
   "source": []
  }
 ],
 "metadata": {
  "kernelspec": {
   "display_name": "Python 3",
   "language": "python",
   "name": "python3"
  },
  "language_info": {
   "codemirror_mode": {
    "name": "ipython",
    "version": 3
   },
   "file_extension": ".py",
   "mimetype": "text/x-python",
   "name": "python",
   "nbconvert_exporter": "python",
   "pygments_lexer": "ipython3",
   "version": "3.11.8"
  }
 },
 "nbformat": 4,
 "nbformat_minor": 2
}
